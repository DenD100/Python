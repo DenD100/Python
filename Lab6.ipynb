{
 "cells": [
  {
   "cell_type": "code",
   "execution_count": 8,
   "id": "9c6d3085-17e7-45a1-a35c-86a955889ecb",
   "metadata": {},
   "outputs": [
    {
     "name": "stdout",
     "output_type": "stream",
     "text": [
      "9\n"
     ]
    }
   ],
   "source": [
    "N=ord(\"D\")%10+1  \n",
    "print(N)\n"
   ]
  },
  {
   "cell_type": "code",
   "execution_count": 91,
   "id": "d9eca2d0-3287-42bb-883c-14669af3198f",
   "metadata": {},
   "outputs": [
    {
     "data": {
      "text/html": [
       "<svg width=\"300\" height=\"200\" xmlns=\"http://www.w3.org/2000/svg\">\n",
       "  <rect width=\"300\" height=\"100\" fill=\"white\"/>\n",
       "  <rect width=\"300\" height=\"100\" y=\"100\" fill=\"#C8102E\"/>\n",
       "  <polygon points=\"0,0 150,100 0,200\" fill=\"#0033A0\"/>\n",
       "</svg>\n"
      ],
      "text/plain": [
       "<IPython.core.display.HTML object>"
      ]
     },
     "metadata": {},
     "output_type": "display_data"
    }
   ],
   "source": [
    "%%HTML\n",
    "<svg width=\"300\" height=\"200\" xmlns=\"http://www.w3.org/2000/svg\">\n",
    "  <rect width=\"300\" height=\"100\" fill=\"white\"/>\n",
    "  <rect width=\"300\" height=\"100\" y=\"100\" fill=\"#C8102E\"/>\n",
    "  <polygon points=\"0,0 150,100 0,200\" fill=\"#0033A0\"/>\n",
    "</svg>"
   ]
  },
  {
   "cell_type": "code",
   "execution_count": null,
   "id": "cb3e6b6f-8cbd-4814-92ac-17e218b0e887",
   "metadata": {},
   "outputs": [],
   "source": []
  },
  {
   "cell_type": "markdown",
   "id": "de1d3f8f-02bb-4071-b44b-31f521c5caaf",
   "metadata": {},
   "source": [
    "# Чеська Республіка\n",
    "## Мапа Чеської Республіки\n",
    "![Мапа Чеської Республіки](MAPA_CR.gif)\n",
    "\n",
    "## Основна інформація\n",
    "**Площа:** 78,864 км²  \n",
    "**Кількість населення:** 10,300,000 осіб  \n",
    "**Столиця:** Прага (1,2 млн осіб)  \n",
    "**Офіційна мова:** Чеська  \n",
    "**Валюта:** Ячеська крона (Kč)  \n",
    "**Політична система:** Парламентська республіка  \n",
    "\n",
    "## Географія\n",
    "- **Розташування:** Центральна Європа\n",
    "- **Сусідні держави:**\n",
    "  - Німеччина\n",
    "  - Польща\n",
    "  - Австрія\n",
    "  - Словаччина\n",
    "- **Рельєф:**\n",
    "  - Гори\n",
    "    - Крушні\n",
    "    - Судетські\n",
    "  - Річки\n",
    "    - Влтава\n",
    "    - Лабу\n",
    "    - Огржа\n",
    "    - Морава\n",
    "- **Клімат:** Помірний континентальний\n",
    "\n",
    "## Адміністративний поділ\n",
    "\n",
    "| Область (укр.)       | Область (англ.)       | Адміністративний центр  | Площа, км² | Населення (2024), осіб |\n",
    "|----------------------|------------------------|--------------------------|-------------|-------------------------|\n",
    "| Прага                | Prague                 | Прага                    | 496         | 1 308 632               |\n",
    "| Центральна Чехія     | Central Bohemia       | Кладно                   | 10,691      | 1 297 273               |\n",
    "| Південночеська       | South Bohemia         | Ческе Будейовице        | 10,057      | 630 454                 |\n",
    "| Північна Чехія       | North Bohemia         | Ліберець                 | 6,430       | 455 568                 |\n",
    "| Східноочеська        | East Bohemia          | Градець-Кралове          | 5,540       | 516 826                 |\n",
    "| Моравія-Сілезія      | Moravian-Silesia      | Острава                  | 5,308       | 1 131 862               |\n",
    "| Злін                 | Zlín                   | Злін                      | 3,964       | 580 479                 |\n",
    "| Устецкий             | Ústí nad Labem        | Устії-над-Лабем         | 5,202       | 825 751                 |\n",
    "| Ліберець             | Liberec               | Ліберець                 | 3,164       | 445 450                 |\n",
    "| Пардубіцький         | Pardubice             | Пардубіце                | 4,519       | 515 754                 |\n",
    "| Краловеградецький    | Hradec Králové        | Градець-Кралове          | 4,696       | 550 036                 |\n",
    "| Жилін                 | Žilina                | Жиліна                   | 2,295       | 500 300                 |\n",
    "\n",
    "## Пам'ятки культури та природи\n",
    "### Відомі місця\n",
    "- **Прага**\n",
    "  - **Празький Град** - історичний комплекс, що включає в себе багато архітектурних стилів.\n",
    "    <img src=\"https://upload.wikimedia.org/wikipedia/commons/thumb/d/d4/Hradschin_Prag.jpg/1200px-Hradschin_Prag.jpg\" alt=\"Празький Град\" width=\"600\"/>\n",
    "\n",
    "- **Карлов міст** - знаменитий міст через Влтаву.\n",
    "    <img src=\"https://upload.wikimedia.org/wikipedia/commons/2/20/Prague_07-2016_View_from_Petrinska_Tower_img2.jpg\" alt=\"Карлов міст\" width=\"600\"/>\n",
    "\n",
    "- **Староміська площа** - центр стародавнього міста з астрономічним годинником.\n",
    "    <img src=\"https://upload.wikimedia.org/wikipedia/commons/4/44/Prague_07-2016_View_from_Old_Town_Hall_Tower_img3.jpg\" alt=\"Староміська площа\" width=\"600\"/>\n",
    "\n",
    "- **Чески Крумлов** - середньовічне місто з історичним центром, занесеним до списку ЮНЕСКО.\n",
    "    <img src=\"https://encrypted-tbn0.gstatic.com/images?q=tbn:ANd9GcSHNLON8T1Y27h_wWUlBTMsad_vTJ59rGtCEQ&s\" alt=\"Чески Крумлов\" width=\"600\"/>\n",
    "\n",
    "### Видатні персоналії\n",
    "1. **Альфонс Муха**  \n",
    "   <img src=\"https://upload.wikimedia.org/wikipedia/commons/2/29/Alfons_Mucha_LOC_3c05828u.jpg\" alt=\"Альфонс Муха\" width=\"300\" style=\"display: block; \"/>\n",
    "\n",
    "   \n",
    "   Альфо́нс Ма́рія Му́ха (чеськ. Alfons Maria Mucha; 24 липня 1860, Іванчице, Моравія, Австро-Угорщина — 14 липня 1939, Прага, Протекторат Богемії та Моравії) — чеський художник, ілюстратор, ювелірний дизайнер і плакатист, один з найвідоміших представників стилю «Арт Нуво». [Детальніше](https://uk.wikipedia.org/wiki/%D0%90%D0%BB%D1%8C%D1%84%D0%BE%D0%BD%D1%81_%D0%9C%D1%83%D1%85%D0%B0)\n",
    "\n",
    "3. **Яромир Ягр**  \n",
    "   <img src=\"https://upload.wikimedia.org/wikipedia/commons/f/f4/Jaromir_Jagr_-_New_Jersey_Devils.jpg\" alt=\"Яромир Ягр\" width=\"300\" style=\"display: block;\"/>\n",
    "\n",
    "   \n",
    "   Яромир Яґр (чеськ. Jaromír Jágr; 15 лютого 1972, м. Кладно, ЧССР) — чеський хокеїст, правий крайній нападник. Наразі виступає за фарм-клуб «Кладно» у другому чеському дивізіоні. [Детальніше](https://uk.wikipedia.org/wiki/%D0%AF%D1%80%D0%BE%D0%BC%D0%B8%D1%80_%D0%9F%D1%8F%D0%B3%D1%80)\n",
    "\n",
    "\n",
    "4. **Божена Немцова**  \n",
    "   ![Божена Немцова](https://upload.wikimedia.org/wikipedia/commons/e/ea/Bozena_Nemcova.jpg)  \n",
    "   Божена Немцова, іноді Нємцова (чеськ. Božena Němcová; 4 лютого 1820, Відень — 22 січня 1862, Прага) — чеська письменниця, поетеса, перекладачка, збирачка казок, редакторка та публіцистка. [Детальніше](https://uk.wikipedia.org/wiki/%D0%91%D0%BE%D0%B6%D0%B5%D0%BD%D0%B0_%D0%9D%D0%B5%D0%BC%D1%86%D0%BE%D0%B2%D0%B0)\n",
    "\n",
    "## Культура\n",
    "<div style=\"border: 2px solid black; padding: 10px; border-radius: 5px;\">\n",
    "    <font color=\"red\">Офіційною мовою є чеська мова</font> — літературна мова, яку викладають у школах. Більшість чехів розмовляють на стандартній чеській. Англійська, хоч і без офіційного статусу, широко розповсюджена у країні та є де-факто мовою комерції й банкінгу.\n",
    "</div>\n",
    "\n",
    "### Кухня\n",
    "- **Національні страви:**\n",
    "  - Сваченка\n",
    "  - Гусля з капустою\n",
    "- **Напої:**\n",
    "  - Пиво (чеське пиво визнане одним з найкращих у світі)\n",
    "\n",
    "## Інформаційні посилання\n",
    "- [Генеральне консульство Чеської Республіки у Львові](https://mzv.gov.cz/lvov/uk/x2004_08_31/x2009_09_02.html)\n",
    "- [Чеська Республіка на Вікіпедії](https://uk.wikipedia.org/wiki/Чеська_Республіка_(1990–1992))\n",
    "\n",
    "\n",
    "\n"
   ]
  },
  {
   "cell_type": "code",
   "execution_count": null,
   "id": "eb5db081-0f87-4c68-b7d3-1a8de82f0407",
   "metadata": {},
   "outputs": [],
   "source": []
  },
  {
   "cell_type": "code",
   "execution_count": 125,
   "id": "9154bd21-f819-4d46-b8bd-66dd73ffa3bb",
   "metadata": {},
   "outputs": [],
   "source": [
    "def task_9(numbers):\n",
    "\n",
    "    composite_numbers = [\n",
    "        num for num in numbers if  any(num % i == 0 for i in range(2, int(num**0.5) + 1))\n",
    "    ]\n",
    "\n",
    "    composite_numbers.sort(reverse=True)\n",
    "  \n",
    "    print(composite_numbers)\n"
   ]
  },
  {
   "cell_type": "code",
   "execution_count": 126,
   "id": "c11d8ebe-a915-4b35-a06a-bf034001a4b8",
   "metadata": {},
   "outputs": [
    {
     "name": "stdout",
     "output_type": "stream",
     "text": [
      "[35, 18, 15, 12]\n"
     ]
    }
   ],
   "source": [
    "task_9([3, 12, 15, 7, 11, 35, 18])"
   ]
  },
  {
   "cell_type": "code",
   "execution_count": 127,
   "id": "27cc349f-28f2-4cd4-aff7-6156da8ac007",
   "metadata": {},
   "outputs": [
    {
     "name": "stdout",
     "output_type": "stream",
     "text": [
      "[34, 22, 15, 6, 4]\n"
     ]
    }
   ],
   "source": [
    "task_9([0, 34, 2, 1, 15, 22, 4, 23, 6])"
   ]
  },
  {
   "cell_type": "code",
   "execution_count": 128,
   "id": "1cee6fae-22e8-4cb3-9fc4-cb2df7a98c36",
   "metadata": {},
   "outputs": [
    {
     "name": "stdout",
     "output_type": "stream",
     "text": [
      "[5957, 162, 111, 96, 68, 52, 15, 9, 6]\n"
     ]
    }
   ],
   "source": [
    "task_9([0, 52, 162, 9, 7, 11, 15, 23, 6, 83,96,111,5957,68])"
   ]
  },
  {
   "cell_type": "code",
   "execution_count": null,
   "id": "5fd837ec-9d1d-4c48-ae5d-d8ee6c8c1691",
   "metadata": {},
   "outputs": [],
   "source": []
  }
 ],
 "metadata": {
  "kernelspec": {
   "display_name": "Python 3 (ipykernel)",
   "language": "python",
   "name": "python3"
  },
  "language_info": {
   "codemirror_mode": {
    "name": "ipython",
    "version": 3
   },
   "file_extension": ".py",
   "mimetype": "text/x-python",
   "name": "python",
   "nbconvert_exporter": "python",
   "pygments_lexer": "ipython3",
   "version": "3.12.6"
  }
 },
 "nbformat": 4,
 "nbformat_minor": 5
}
